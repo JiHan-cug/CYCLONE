{
 "cells": [
  {
   "cell_type": "markdown",
   "id": "1a7bf270-d275-42ac-8dbf-5645565d6014",
   "metadata": {},
   "source": [
    "# 5A"
   ]
  },
  {
   "cell_type": "code",
   "execution_count": null,
   "id": "33b1000b-5f81-46bb-bd81-c9c1a0912093",
   "metadata": {},
   "outputs": [],
   "source": [
    "import matplotlib.pyplot as plt\n",
    "import numpy as np"
   ]
  },
  {
   "cell_type": "code",
   "execution_count": null,
   "id": "288dbc5d-1115-47b1-8665-3bf0790eb436",
   "metadata": {},
   "outputs": [],
   "source": [
    "methods = ['Seurat', 'Harmony', 'Scanorama', 'BBKNN', 'scVI', 'Cell BLAST', 'INSCT', 'scDML', 'CYCLONE']"
   ]
  },
  {
   "cell_type": "code",
   "execution_count": null,
   "id": "40f764de-e934-4243-84ba-f6119ea0ad9d",
   "metadata": {},
   "outputs": [],
   "source": [
    "ARI = [0.9286, 1, 0.6578, 0.0301, 1, 0.8812, 0.0587, 1, 1]\n",
    "NMI = [0.9205, 1, 0.8045, 0.18, 1, 0.8394, 0.0903, 1, 1]"
   ]
  },
  {
   "cell_type": "code",
   "execution_count": null,
   "id": "6514b188-cb49-4d43-a87a-d460daea174a",
   "metadata": {},
   "outputs": [],
   "source": [
    "bar_width = 0.35\n",
    "bar_positions = np.arange(len(methods))\n",
    "fig = plt.figure(figsize=(10, 6))\n",
    "plt.bar(bar_positions, ARI, color='#F59A7D', label='ARI', width=bar_width)\n",
    "plt.bar(bar_positions + bar_width, NMI, color='#96D3C4', label='NMI', width=bar_width)\n",
    "plt.xticks(bar_positions + bar_width / 2, methods, rotation=45, fontsize=14)\n",
    "plt.tight_layout()\n",
    "plt.gca().spines['top'].set_visible(False)\n",
    "plt.gca().spines['right'].set_visible(False)\n",
    "plt.legend()"
   ]
  },
  {
   "cell_type": "markdown",
   "id": "a77b0fc8-e576-4eb3-ac51-1d10fa14f222",
   "metadata": {},
   "source": [
    "# 5B"
   ]
  },
  {
   "cell_type": "code",
   "execution_count": null,
   "id": "98725d37-6829-48fa-8883-89c22d351eae",
   "metadata": {},
   "outputs": [],
   "source": [
    "methods = ['CYCLONE', 'Harmony', 'Scanorama', 'INSCT', 'scDML', 'BBKNN', 'scVI', 'Cell BLAST', 'Seurat']\n",
    "colors = [(246/255, 111/255, 105/255), (21/255, 151/255, 165/255), (255/255, 194/255, 75/255), (14/255, 96/255, 107/255),\n",
    "          (69/255, 42/255, 61/255), (68/255, 117/255, 122/255), (2/255, 48/255, 74/255), (131/255, 64/255, 38/255),\n",
    "          (78/255, 171/255, 144/255)]\n",
    "markers = ['o', 's', '^', '*', 'D', 'v', 'p', 'h', 'x']\n",
    "ber_values_sim = [0.2, 0, 969.1619, 2448.8062, 0.0039, 3851.5203, 0, 388.2274, 325.1561]\n",
    "basw_values_sim = [0.9917, 0.99, 0.9786, 0.6366, 0.99, 0.4072, 0.9883, 0.99, 0.99]\n",
    "plt.figure(figsize=(8, 6))\n",
    "for i in range(len(methods)):\n",
    "    plt.scatter(ber_values_sim[i], basw_values_sim[i], color=colors[i], s=50, label=methods[i],  marker=markers[i])\n",
    "    plt.gca().spines['top'].set_visible(False)\n",
    "plt.gca().spines['right'].set_visible(False)\n",
    "plt.grid(False)\n",
    "plt.legend(loc='upper right', bbox_to_anchor=(1.3, 0.8), fancybox=True, shadow=False, ncol=1)"
   ]
  },
  {
   "cell_type": "code",
   "execution_count": null,
   "id": "f2c8e0fa-b0a5-4a3d-b203-4cf8f7d8df16",
   "metadata": {},
   "outputs": [],
   "source": []
  },
  {
   "cell_type": "code",
   "execution_count": null,
   "id": "c707aeb3-e79f-4831-8481-1ff7ceb816bc",
   "metadata": {},
   "outputs": [],
   "source": []
  }
 ],
 "metadata": {
  "kernelspec": {
   "display_name": "Python PyTorch",
   "language": "python",
   "name": "pytorch"
  },
  "language_info": {
   "codemirror_mode": {
    "name": "ipython",
    "version": 3
   },
   "file_extension": ".py",
   "mimetype": "text/x-python",
   "name": "python",
   "nbconvert_exporter": "python",
   "pygments_lexer": "ipython3",
   "version": "3.9.16"
  }
 },
 "nbformat": 4,
 "nbformat_minor": 5
}