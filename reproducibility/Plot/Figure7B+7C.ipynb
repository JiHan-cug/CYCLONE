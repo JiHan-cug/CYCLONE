{
 "cells": [
  {
   "cell_type": "markdown",
   "id": "e73153b1-9c98-4ee4-8e42-10cbf966299f",
   "metadata": {},
   "source": [
    "# 7B"
   ]
  },
  {
   "cell_type": "code",
   "execution_count": null,
   "id": "c7eeace9-3989-4634-aebc-2e95648cd205",
   "metadata": {},
   "outputs": [],
   "source": [
    "import pandas as pd\n",
    "import scanpy as sc\n",
    "import numpy as np\n",
    "import matplotlib\n",
    "import matplotlib.pyplot as plt\n",
    "matplotlib.use('Agg')\n",
    "import warnings\n",
    "warnings.filterwarnings(\"ignore\")"
   ]
  },
  {
   "cell_type": "code",
   "execution_count": null,
   "id": "06b5c010-a644-4f7f-baa4-19d063f7c3eb",
   "metadata": {},
   "outputs": [],
   "source": [
    "# set plot fouction\n",
    "def plot_cluster(df, method_name, by, n, ax):     \n",
    "    umap = umap_all[n]\n",
    "    batch = df['Batch']\n",
    "    y_true = df['Labels']\n",
    "    \n",
    "    col1 = [\"#4197d8\", \"#f8c120\", \"#413496\", \"#495226\", \"#d60b6f\", \"#e66519\", \"#d581b7\", \"#83d3ad\",\n",
    "            \"#7c162c\", \"#26755d\", \"#EAC862\", \"#7FD2FF\", \"#007ED3\", \"#B2DF8A\"]\n",
    "\n",
    "    col2 = [\"#63b2ee\", \"#76da91\",\n",
    "            \"#f8cb7f\", \"#f89588\", \"#7cd6cf\", \"#9192ab\", \"#7898e1\", \"#efa666\", \"#eddd86\"]\n",
    "\n",
    "    adata = sc.AnnData(pd.DataFrame(np.random.rand(len(y_true), 1)))\n",
    "\n",
    "    adata.obs['true'] = y_true\n",
    "    adata.obs['true'] = adata.obs['true'].astype(str).astype('category')\n",
    "    adata.obs['batch'] = batch\n",
    "    adata.obs['batch'] = adata.obs['batch'].astype(str).astype('category')\n",
    "    adata.obsm['X_umap'] = umap\n",
    "\n",
    "    if by == 'true':\n",
    "        sc.pl.umap(adata, color=['true'], ax=ax, show=False, legend_loc='None', size=15, palette=col1)\n",
    "        ax.set_title(method_name, fontsize=15, family='Arial')\n",
    "        ax.spines['right'].set_visible(False)\n",
    "        ax.spines['top'].set_visible(False)\n",
    "        ax.set_xticks([])\n",
    "        ax.set_xlabel('')\n",
    "\n",
    "    else:\n",
    "        sc.pl.umap(adata, color=['batch'], ax=ax, show=False, legend_loc='None', size=15, palette=col2)\n",
    "        ax.set_title(method_name, fontsize=15, family='Arial')\n",
    "        ax.spines['right'].set_visible(False)\n",
    "        ax.spines['top'].set_visible(False)\n",
    "        ax.set_xticks([])\n",
    "        ax.set_xlabel('')"
   ]
  },
  {
   "cell_type": "code",
   "execution_count": null,
   "id": "5c0a26a2-77a7-465a-86e1-08d0d69f1b38",
   "metadata": {},
   "outputs": [],
   "source": [
    "# load emmbedding\n",
    "fig, axs = plt.subplots(1, 9, figsize=(25, 3))\n",
    "\n",
    "epoch1 = np.load('ccc_sim_1e.npz', allow_pickle=True)\n",
    "epoch10 = np.load('ccc_sim_10e.npz', allow_pickle=True)\n",
    "epoch20 = np.load('results/emb/sim/cyclone_sim.npz', allow_pickle=True)"
   ]
  },
  {
   "cell_type": "code",
   "execution_count": null,
   "id": "ff284705-eee3-43b5-9709-693dcaa2fe55",
   "metadata": {},
   "outputs": [],
   "source": [
    "methods = [epoch1, epoch10, epoch20]\n",
    "\n",
    "embedding = []\n",
    "for i, method in enumerate(methods):\n",
    "    embedding.append(method['Embedding'])\n",
    "\n",
    "umap_all = []\n",
    "for i in range(len(embedding)):\n",
    "    print(i)\n",
    "    adata = sc.AnnData(embedding[i])\n",
    "    sc.pp.neighbors(adata)\n",
    "    sc.tl.umap(adata, random_state=0)\n",
    "    umap_all.append(np.array(adata.obsm['X_umap']))"
   ]
  },
  {
   "cell_type": "code",
   "execution_count": null,
   "id": "3fcc02a1-94a5-42ea-a03a-e54c9da426b9",
   "metadata": {},
   "outputs": [],
   "source": [
    "plot_cluster(epoch1, 'epoch = 1', 'batch', 0, axs[0])\n",
    "plot_cluster(epoch10, 'epoch = 10', 'batch', 1, axs[1])\n",
    "plot_cluster(epoch20, 'epoch = 20', 'batch', 2, axs[2])"
   ]
  },
  {
   "cell_type": "code",
   "execution_count": null,
   "id": "9888750a-25d1-44d0-9176-7500d5b60533",
   "metadata": {},
   "outputs": [],
   "source": [
    "plot_cluster(epoch1, 'epoch = 1', 'true', 0, axs[0])\n",
    "plot_cluster(epoch10, 'epoch = 10', 'true', 1, axs[1])\n",
    "plot_cluster(epoch20, 'epoch = 20', 'true', 2, axs[2])"
   ]
  },
  {
   "cell_type": "markdown",
   "id": "9962cb97-ed5b-4124-866f-0cb4f5b8e6a4",
   "metadata": {},
   "source": [
    "# 7C"
   ]
  },
  {
   "cell_type": "code",
   "execution_count": null,
   "id": "0c90e33d-a878-4b38-8a9c-66956e397e98",
   "metadata": {},
   "outputs": [],
   "source": [
    "# load emmbedding\n",
    "fig, axs = plt.subplots(1, 9, figsize=(25, 3))\n",
    "\n",
    "epoch1 = np.load('ccc_human_pan_1e.npz', allow_pickle=True)\n",
    "epoch10 = np.load('ccc_human_pan_10e.npz', allow_pickle=True)\n",
    "epoch20 = np.load('results/emb/human_pan/cyclone_human_pan.npz', allow_pickle=True)"
   ]
  },
  {
   "cell_type": "code",
   "execution_count": null,
   "id": "45204e8e-b1f7-48e0-ae82-3ffe17f6ed56",
   "metadata": {},
   "outputs": [],
   "source": [
    "methods = [epoch1, epoch10, epoch20]\n",
    "\n",
    "embedding = []\n",
    "for i, method in enumerate(methods):\n",
    "    embedding.append(method['Embedding'])\n",
    "\n",
    "umap_all = []\n",
    "for i in range(len(embedding)):\n",
    "    print(i)\n",
    "    adata = sc.AnnData(embedding[i])\n",
    "    sc.pp.neighbors(adata)\n",
    "    sc.tl.umap(adata, random_state=0)\n",
    "    umap_all.append(np.array(adata.obsm['X_umap']))"
   ]
  },
  {
   "cell_type": "code",
   "execution_count": null,
   "id": "1abe7f44-5696-4f7e-bd35-bb645e4b06d4",
   "metadata": {},
   "outputs": [],
   "source": [
    "plot_cluster(epoch1, 'epoch = 1', 'batch', 0, axs[0])\n",
    "plot_cluster(epoch10, 'epoch = 10', 'batch', 1, axs[1])\n",
    "plot_cluster(epoch20, 'epoch = 20', 'batch', 2, axs[2])"
   ]
  },
  {
   "cell_type": "code",
   "execution_count": null,
   "id": "4c02b9e1-23a1-4770-ac13-0a20d5500720",
   "metadata": {},
   "outputs": [],
   "source": [
    "plot_cluster(epoch1, 'epoch = 1', 'true', 0, axs[0])\n",
    "plot_cluster(epoch10, 'epoch = 10', 'true', 1, axs[1])\n",
    "plot_cluster(epoch20, 'epoch = 20', 'true', 2, axs[2])"
   ]
  },
  {
   "cell_type": "code",
   "execution_count": null,
   "id": "18c85c72-e407-439a-85ce-612ebe63e684",
   "metadata": {},
   "outputs": [],
   "source": []
  },
  {
   "cell_type": "code",
   "execution_count": null,
   "id": "12d60af9-ead5-48b9-b23f-80e5c9f0b795",
   "metadata": {},
   "outputs": [],
   "source": []
  }
 ],
 "metadata": {
  "kernelspec": {
   "display_name": "Python PyTorch",
   "language": "python",
   "name": "pytorch"
  },
  "language_info": {
   "codemirror_mode": {
    "name": "ipython",
    "version": 3
   },
   "file_extension": ".py",
   "mimetype": "text/x-python",
   "name": "python",
   "nbconvert_exporter": "python",
   "pygments_lexer": "ipython3",
   "version": "3.9.16"
  }
 },
 "nbformat": 4,
 "nbformat_minor": 5
}
