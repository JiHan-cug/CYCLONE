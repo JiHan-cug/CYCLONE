{
 "cells": [
  {
   "cell_type": "markdown",
   "id": "c8a1acb6-0fe8-4f8c-8a24-40a401dc9c96",
   "metadata": {},
   "source": [
    "# 7A"
   ]
  },
  {
   "cell_type": "markdown",
   "id": "8a4773c2-fae4-4e8f-bc8f-87d41e243d0d",
   "metadata": {},
   "source": [
    "## Human PBMC"
   ]
  },
  {
   "cell_type": "code",
   "execution_count": null,
   "id": "d9f1e0df-0693-41a4-9132-401ca1e72c65",
   "metadata": {},
   "outputs": [],
   "source": [
    "import numpy as np\n",
    "import matplotlib.pyplot as plt\n",
    "import scanpy as sc\n",
    "from sklearn.preprocessing import LabelEncoder"
   ]
  },
  {
   "cell_type": "code",
   "execution_count": null,
   "id": "31c644ad-97a2-452c-b485-c27c5cd0c060",
   "metadata": {},
   "outputs": [],
   "source": [
    "data = np.load('results/mnn_index/pbmc.npz')\n",
    "adata = sc.read_h5ad('data/Human PBMC/PBMC.h5ad')\n",
    "cell_type = adata.obs['celltype'].values\n",
    "Label_enc = LabelEncoder()\n",
    "cell_type = Label_enc.fit_transform(cell_type)\n",
    "adata.obs['celltype'] = cell_type\n",
    "adata.obs['celltype'] = adata.obs['celltype'].astype('int').astype('category')\n",
    "\n",
    "mnn_index = data['mnn_index']\n",
    "a_index = mnn_index[0]\n",
    "b_index = mnn_index[1]\n",
    "c_index = mnn_index[2]\n",
    "plt.rcParams['font.family'] = 'Arial'"
   ]
  },
  {
   "cell_type": "code",
   "execution_count": null,
   "id": "3b87ed3a-3099-4de7-8ae4-c0dd725d9f3e",
   "metadata": {},
   "outputs": [],
   "source": [
    "#The first epoch of Heatmap\n",
    "n_cell = len(np.unique(adata.obs['celltype']))\n",
    "positive_matrixa = np.zeros((n_cell, n_cell), dtype=int)\n",
    "for celltype in range(n_cell):\n",
    "    celltype_indices = np.where(adata.obs['celltype'] == celltype)[0]\n",
    "    celltype_pos_indices = a_index[celltype_indices]\n",
    "    celltype_pos_celltypes = adata.obs['celltype'][celltype_pos_indices]\n",
    "    celltype_pos_counts = np.bincount(celltype_pos_celltypes, minlength=n_cell)\n",
    "    positive_matrixa[celltype, :] = celltype_pos_counts\n",
    "\n",
    "row_sums = positive_matrixa.sum(axis=1)\n",
    "positive_matrix_normalized_a = positive_matrixa / row_sums[:, np.newaxis]\n",
    "\n",
    "print(positive_matrix_normalized_a)\n",
    "plt.imshow(positive_matrix_normalized_a, cmap='Reds',origin='lower', extent=[0.5, n_cell+0.5, 0.5, n_cell+0.5])\n",
    "plt.yticks(np.arange(1, n_cell+1), np.arange(1, n_cell+1))\n",
    "plt.xticks(np.arange(1, n_cell+1), np.arange(1, n_cell+1))\n",
    "plt.colorbar()\n",
    "plt.title(\"epoch = 1\")"
   ]
  },
  {
   "cell_type": "code",
   "execution_count": null,
   "id": "07d3f1fa-c4ea-43b2-8f45-001b0a30922e",
   "metadata": {},
   "outputs": [],
   "source": [
    "#The 10th epoch of Heatmap\n",
    "positive_matrixb = np.zeros((n_cell, n_cell), dtype=int)\n",
    "for celltype in range(n_cell):\n",
    "    celltype_indices = np.where(adata.obs['celltype'] == celltype)[0]\n",
    "    celltype_pos_indices = b_index[celltype_indices]\n",
    "    celltype_pos_celltypes = adata.obs['celltype'][celltype_pos_indices]\n",
    "    celltype_pos_counts = np.bincount(celltype_pos_celltypes, minlength=n_cell)\n",
    "    positive_matrixb[celltype, :] = celltype_pos_counts\n",
    "\n",
    "row_sums = positive_matrixb.sum(axis=1)\n",
    "positive_matrix_normalized_b = positive_matrixb / row_sums[:, np.newaxis]\n",
    "\n",
    "print(positive_matrix_normalized_b)\n",
    "plt.imshow(positive_matrix_normalized_b, cmap='Reds', origin='lower', extent=[0.5, n_cell+0.5, 0.5, n_cell+0.5])\n",
    "plt.yticks(np.arange(1, n_cell+1), np.arange(1, n_cell+1))\n",
    "plt.xticks(np.arange(1, n_cell+1), np.arange(1, n_cell+1))\n",
    "plt.colorbar()\n",
    "plt.title(\"epoch = 10\")"
   ]
  },
  {
   "cell_type": "code",
   "execution_count": null,
   "id": "1845d3db-f7f3-44e1-ac75-313b80bc10bf",
   "metadata": {},
   "outputs": [],
   "source": [
    "#The 20th epoch of Heatmap\n",
    "positive_matrixc = np.zeros((n_cell, n_cell), dtype=int)\n",
    "for celltype in range(n_cell):\n",
    "    celltype_indices = np.where(adata.obs['celltype'] == celltype)[0]\n",
    "    celltype_pos_indices = c_index[celltype_indices]\n",
    "    celltype_pos_celltypes = adata.obs['celltype'][celltype_pos_indices]\n",
    "    celltype_pos_counts = np.bincount(celltype_pos_celltypes, minlength=n_cell)\n",
    "    positive_matrixc[celltype, :] = celltype_pos_counts\n",
    "\n",
    "row_sums = positive_matrixc.sum(axis=1)\n",
    "positive_matrix_normalized_c = positive_matrixc / row_sums[:, np.newaxis]\n",
    "\n",
    "print(positive_matrix_normalized_c)\n",
    "plt.imshow(positive_matrix_normalized_c, cmap='Reds', origin='lower', extent=[0.5, n_cell+0.5, 0.5, n_cell+0.5])\n",
    "plt.yticks(np.arange(1, n_cell+1), np.arange(1, n_cell+1))\n",
    "plt.xticks(np.arange(1, n_cell+1), np.arange(1, n_cell+1))\n",
    "plt.colorbar()\n",
    "plt.title(\"epoch = 20\")"
   ]
  },
  {
   "cell_type": "markdown",
   "id": "dec41e3f-29cc-423a-a665-6fd99838b06d",
   "metadata": {},
   "source": [
    "## MCA"
   ]
  },
  {
   "cell_type": "code",
   "execution_count": null,
   "id": "76bc4dfd-a14a-4abb-aa08-73f356f3bcad",
   "metadata": {},
   "outputs": [],
   "source": [
    "data = np.load('results/mnn_index/mca.npz')\n",
    "adata = sc.read_h5ad('data/MCA/MCA.h5ad')\n",
    "cell_type = adata.obs['celltype'].values\n",
    "Label_enc = LabelEncoder()\n",
    "cell_type = Label_enc.fit_transform(cell_type)\n",
    "adata.obs['celltype'] = cell_type\n",
    "adata.obs['celltype'] = adata.obs['celltype'].astype('int').astype('category')\n",
    "\n",
    "mnn_index = data['mnn_index']\n",
    "a_index = mnn_index[0]\n",
    "b_index = mnn_index[1]\n",
    "c_index = mnn_index[2]"
   ]
  },
  {
   "cell_type": "code",
   "execution_count": null,
   "id": "6f86b0dd-8f96-43fe-83ca-44a8de262450",
   "metadata": {},
   "outputs": [],
   "source": [
    "#The first epoch of Heatmap\n",
    "n_cell = len(np.unique(adata.obs['celltype']))\n",
    "positive_matrixa = np.zeros((n_cell, n_cell), dtype=int)\n",
    "for celltype in range(n_cell):\n",
    "    celltype_indices = np.where(adata.obs['celltype'] == celltype)[0]\n",
    "    celltype_pos_indices = a_index[celltype_indices]\n",
    "    celltype_pos_celltypes = adata.obs['celltype'][celltype_pos_indices]\n",
    "    celltype_pos_counts = np.bincount(celltype_pos_celltypes, minlength=n_cell)\n",
    "    positive_matrixa[celltype, :] = celltype_pos_counts\n",
    "\n",
    "row_sums = positive_matrixa.sum(axis=1)\n",
    "positive_matrix_normalized_a = positive_matrixa / row_sums[:, np.newaxis]\n",
    "\n",
    "print(positive_matrix_normalized_a)\n",
    "plt.imshow(positive_matrix_normalized_a, cmap='Reds',origin='lower', extent=[0.5, n_cell+0.5, 0.5, n_cell+0.5])\n",
    "plt.yticks(np.arange(1, n_cell+1), np.arange(1, n_cell+1))\n",
    "plt.xticks(np.arange(1, n_cell+1), np.arange(1, n_cell+1))\n",
    "plt.colorbar()\n",
    "plt.title(\"epoch = 1\")"
   ]
  },
  {
   "cell_type": "code",
   "execution_count": null,
   "id": "78e35aac-2fc0-4187-9ae4-eb1ad2c2e062",
   "metadata": {},
   "outputs": [],
   "source": [
    "#The 10th epoch of Heatmap\n",
    "positive_matrixb = np.zeros((n_cell, n_cell), dtype=int)\n",
    "for celltype in range(n_cell):\n",
    "    celltype_indices = np.where(adata.obs['celltype'] == celltype)[0]\n",
    "    celltype_pos_indices = b_index[celltype_indices]\n",
    "    celltype_pos_celltypes = adata.obs['celltype'][celltype_pos_indices]\n",
    "    celltype_pos_counts = np.bincount(celltype_pos_celltypes, minlength=n_cell)\n",
    "    positive_matrixb[celltype, :] = celltype_pos_counts\n",
    "\n",
    "row_sums = positive_matrixb.sum(axis=1)\n",
    "positive_matrix_normalized_b = positive_matrixb / row_sums[:, np.newaxis]\n",
    "\n",
    "print(positive_matrix_normalized_b)\n",
    "plt.imshow(positive_matrix_normalized_b, cmap='Reds', origin='lower', extent=[0.5, n_cell+0.5, 0.5, n_cell+0.5])\n",
    "plt.yticks(np.arange(1, n_cell+1), np.arange(1, n_cell+1))\n",
    "plt.xticks(np.arange(1, n_cell+1), np.arange(1, n_cell+1))\n",
    "plt.colorbar()\n",
    "plt.title(\"epoch = 10\")"
   ]
  },
  {
   "cell_type": "code",
   "execution_count": null,
   "id": "97a27ca1-7b77-491d-8ccb-69afa0f73408",
   "metadata": {},
   "outputs": [],
   "source": [
    "#The 20th epoch of Heatmap\n",
    "positive_matrixc = np.zeros((n_cell, n_cell), dtype=int)\n",
    "for celltype in range(n_cell):\n",
    "    celltype_indices = np.where(adata.obs['celltype'] == celltype)[0]\n",
    "    celltype_pos_indices = c_index[celltype_indices]\n",
    "    celltype_pos_celltypes = adata.obs['celltype'][celltype_pos_indices]\n",
    "    celltype_pos_counts = np.bincount(celltype_pos_celltypes, minlength=n_cell)\n",
    "    positive_matrixc[celltype, :] = celltype_pos_counts\n",
    "\n",
    "row_sums = positive_matrixc.sum(axis=1)\n",
    "positive_matrix_normalized_c = positive_matrixc / row_sums[:, np.newaxis]\n",
    "\n",
    "print(positive_matrix_normalized_c)\n",
    "plt.imshow(positive_matrix_normalized_c, cmap='Reds', origin='lower', extent=[0.5, n_cell+0.5, 0.5, n_cell+0.5])\n",
    "plt.yticks(np.arange(1, n_cell+1), np.arange(1, n_cell+1))\n",
    "plt.xticks(np.arange(1, n_cell+1), np.arange(1, n_cell+1))\n",
    "plt.colorbar()\n",
    "plt.title(\"epoch = 20\")"
   ]
  },
  {
   "cell_type": "markdown",
   "id": "e42e8550-00c4-463d-bd90-5ef750c44ce6",
   "metadata": {},
   "source": [
    "## Simulation"
   ]
  },
  {
   "cell_type": "code",
   "execution_count": null,
   "id": "a51cb533-05c9-4ef5-8fca-b2e6d9ce7a08",
   "metadata": {},
   "outputs": [],
   "source": [
    "data = np.load('results/mnn_index/simulation.npz')\n",
    "adata = sc.read_h5ad('data/Simulation/simulation.h5ad')\n",
    "cell_type = adata.obs['celltype'].values\n",
    "Label_enc = LabelEncoder()\n",
    "cell_type = Label_enc.fit_transform(cell_type)\n",
    "adata.obs['celltype'] = cell_type\n",
    "adata.obs['celltype'] = adata.obs['celltype'].astype('int').astype('category')\n",
    "\n",
    "mnn_index = data['mnn_index']\n",
    "a_index = mnn_index[0]\n",
    "b_index = mnn_index[1]\n",
    "c_index = mnn_index[2]"
   ]
  },
  {
   "cell_type": "code",
   "execution_count": null,
   "id": "36ac05b6-b828-4b9c-8d8e-60c41c178de2",
   "metadata": {},
   "outputs": [],
   "source": [
    "#The first epoch of Heatmap\n",
    "n_cell = len(np.unique(adata.obs['celltype']))\n",
    "positive_matrixa = np.zeros((n_cell, n_cell), dtype=int)\n",
    "for celltype in range(n_cell):\n",
    "    celltype_indices = np.where(adata.obs['celltype'] == celltype)[0]\n",
    "    celltype_pos_indices = a_index[celltype_indices]\n",
    "    celltype_pos_celltypes = adata.obs['celltype'][celltype_pos_indices]\n",
    "    celltype_pos_counts = np.bincount(celltype_pos_celltypes, minlength=n_cell)\n",
    "    positive_matrixa[celltype, :] = celltype_pos_counts\n",
    "\n",
    "row_sums = positive_matrixa.sum(axis=1)\n",
    "positive_matrix_normalized_a = positive_matrixa / row_sums[:, np.newaxis]\n",
    "\n",
    "print(positive_matrix_normalized_a)\n",
    "plt.imshow(positive_matrix_normalized_a, cmap='Reds',origin='lower', extent=[0.5, n_cell+0.5, 0.5, n_cell+0.5])\n",
    "plt.yticks(np.arange(1, n_cell+1), np.arange(1, n_cell+1))\n",
    "plt.xticks(np.arange(1, n_cell+1), np.arange(1, n_cell+1))\n",
    "plt.colorbar()\n",
    "plt.title(\"epoch = 1\")"
   ]
  },
  {
   "cell_type": "code",
   "execution_count": null,
   "id": "6c51cb9d-bd5d-4fe7-ac71-ba339eb3505d",
   "metadata": {},
   "outputs": [],
   "source": [
    "#The 10th epoch of Heatmap\n",
    "positive_matrixb = np.zeros((n_cell, n_cell), dtype=int)\n",
    "for celltype in range(n_cell):\n",
    "    celltype_indices = np.where(adata.obs['celltype'] == celltype)[0]\n",
    "    celltype_pos_indices = b_index[celltype_indices]\n",
    "    celltype_pos_celltypes = adata.obs['celltype'][celltype_pos_indices]\n",
    "    celltype_pos_counts = np.bincount(celltype_pos_celltypes, minlength=n_cell)\n",
    "    positive_matrixb[celltype, :] = celltype_pos_counts\n",
    "\n",
    "row_sums = positive_matrixb.sum(axis=1)\n",
    "positive_matrix_normalized_b = positive_matrixb / row_sums[:, np.newaxis]\n",
    "\n",
    "print(positive_matrix_normalized_b)\n",
    "plt.imshow(positive_matrix_normalized_b, cmap='Reds', origin='lower', extent=[0.5, n_cell+0.5, 0.5, n_cell+0.5])\n",
    "plt.yticks(np.arange(1, n_cell+1), np.arange(1, n_cell+1))\n",
    "plt.xticks(np.arange(1, n_cell+1), np.arange(1, n_cell+1))\n",
    "plt.colorbar()\n",
    "plt.title(\"epoch = 10\")"
   ]
  },
  {
   "cell_type": "code",
   "execution_count": null,
   "id": "ec1fa886-8565-46ea-913e-6620c6397eeb",
   "metadata": {},
   "outputs": [],
   "source": [
    "#The 20th epoch of Heatmap\n",
    "positive_matrixc = np.zeros((n_cell, n_cell), dtype=int)\n",
    "for celltype in range(n_cell):\n",
    "    celltype_indices = np.where(adata.obs['celltype'] == celltype)[0]\n",
    "    celltype_pos_indices = c_index[celltype_indices]\n",
    "    celltype_pos_celltypes = adata.obs['celltype'][celltype_pos_indices]\n",
    "    celltype_pos_counts = np.bincount(celltype_pos_celltypes, minlength=n_cell)\n",
    "    positive_matrixc[celltype, :] = celltype_pos_counts\n",
    "\n",
    "row_sums = positive_matrixc.sum(axis=1)\n",
    "positive_matrix_normalized_c = positive_matrixc / row_sums[:, np.newaxis]\n",
    "\n",
    "print(positive_matrix_normalized_c)\n",
    "plt.imshow(positive_matrix_normalized_c, cmap='Reds', origin='lower', extent=[0.5, n_cell+0.5, 0.5, n_cell+0.5])\n",
    "plt.yticks(np.arange(1, n_cell+1), np.arange(1, n_cell+1))\n",
    "plt.xticks(np.arange(1, n_cell+1), np.arange(1, n_cell+1))\n",
    "plt.colorbar()\n",
    "plt.title(\"epoch = 20\")"
   ]
  },
  {
   "cell_type": "markdown",
   "id": "6790741b-580a-4471-afde-0bb84a5268f6",
   "metadata": {},
   "source": [
    "## Human Pancreas"
   ]
  },
  {
   "cell_type": "code",
   "execution_count": null,
   "id": "f3cdb816-1c6c-4e13-935d-dd7bb51ccf78",
   "metadata": {},
   "outputs": [],
   "source": [
    "data = np.load('results/mnn_index/human_pan.npz')\n",
    "adata = sc.read_h5ad('data/Human Pancreas/human_pancreas_norm_complexBatch.h5ad')\n",
    "cell_type = adata.obs['celltype'].values\n",
    "Label_enc = LabelEncoder()\n",
    "cell_type = Label_enc.fit_transform(cell_type)\n",
    "adata.obs['celltype'] = cell_type\n",
    "adata.obs['celltype'] = adata.obs['celltype'].astype('int').astype('category')\n",
    "\n",
    "mnn_index = data['mnn_index']\n",
    "a_index = mnn_index[0]\n",
    "b_index = mnn_index[1]\n",
    "c_index = mnn_index[2]"
   ]
  },
  {
   "cell_type": "code",
   "execution_count": null,
   "id": "ff9eeb80-d909-430f-9571-9a8dd3df4dc0",
   "metadata": {},
   "outputs": [],
   "source": [
    "#The first epoch of Heatmap\n",
    "n_cell = len(np.unique(adata.obs['celltype']))\n",
    "positive_matrixa = np.zeros((n_cell, n_cell), dtype=int)\n",
    "for celltype in range(n_cell):\n",
    "    celltype_indices = np.where(adata.obs['celltype'] == celltype)[0]\n",
    "    celltype_pos_indices = a_index[celltype_indices]\n",
    "    celltype_pos_celltypes = adata.obs['celltype'][celltype_pos_indices]\n",
    "    celltype_pos_counts = np.bincount(celltype_pos_celltypes, minlength=n_cell)\n",
    "    positive_matrixa[celltype, :] = celltype_pos_counts\n",
    "\n",
    "row_sums = positive_matrixa.sum(axis=1)\n",
    "positive_matrix_normalized_a = positive_matrixa / row_sums[:, np.newaxis]\n",
    "\n",
    "print(positive_matrix_normalized_a)\n",
    "plt.imshow(positive_matrix_normalized_a, cmap='Reds',origin='lower', extent=[0.5, n_cell+0.5, 0.5, n_cell+0.5])\n",
    "plt.yticks(np.arange(1, n_cell+1), np.arange(1, n_cell+1))\n",
    "plt.xticks(np.arange(1, n_cell+1), np.arange(1, n_cell+1))\n",
    "plt.colorbar()\n",
    "plt.title(\"epoch = 1\")"
   ]
  },
  {
   "cell_type": "code",
   "execution_count": null,
   "id": "6932f65c-9abf-444b-b74e-b355b983386e",
   "metadata": {},
   "outputs": [],
   "source": [
    "#The 10th epoch of Heatmap\n",
    "positive_matrixb = np.zeros((n_cell, n_cell), dtype=int)\n",
    "for celltype in range(n_cell):\n",
    "    celltype_indices = np.where(adata.obs['celltype'] == celltype)[0]\n",
    "    celltype_pos_indices = b_index[celltype_indices]\n",
    "    celltype_pos_celltypes = adata.obs['celltype'][celltype_pos_indices]\n",
    "    celltype_pos_counts = np.bincount(celltype_pos_celltypes, minlength=n_cell)\n",
    "    positive_matrixb[celltype, :] = celltype_pos_counts\n",
    "\n",
    "row_sums = positive_matrixb.sum(axis=1)\n",
    "positive_matrix_normalized_b = positive_matrixb / row_sums[:, np.newaxis]\n",
    "\n",
    "print(positive_matrix_normalized_b)\n",
    "plt.imshow(positive_matrix_normalized_b, cmap='Reds', origin='lower', extent=[0.5, n_cell+0.5, 0.5, n_cell+0.5])\n",
    "plt.yticks(np.arange(1, n_cell+1), np.arange(1, n_cell+1))\n",
    "plt.xticks(np.arange(1, n_cell+1), np.arange(1, n_cell+1))\n",
    "plt.colorbar()\n",
    "plt.title(\"epoch = 10\")"
   ]
  },
  {
   "cell_type": "code",
   "execution_count": null,
   "id": "a6729470-0779-4af5-90e1-8398f699d252",
   "metadata": {},
   "outputs": [],
   "source": [
    "#The 20th epoch of Heatmap\n",
    "positive_matrixc = np.zeros((n_cell, n_cell), dtype=int)\n",
    "for celltype in range(n_cell):\n",
    "    celltype_indices = np.where(adata.obs['celltype'] == celltype)[0]\n",
    "    celltype_pos_indices = c_index[celltype_indices]\n",
    "    celltype_pos_celltypes = adata.obs['celltype'][celltype_pos_indices]\n",
    "    celltype_pos_counts = np.bincount(celltype_pos_celltypes, minlength=n_cell)\n",
    "    positive_matrixc[celltype, :] = celltype_pos_counts\n",
    "\n",
    "row_sums = positive_matrixc.sum(axis=1)\n",
    "positive_matrix_normalized_c = positive_matrixc / row_sums[:, np.newaxis]\n",
    "\n",
    "print(positive_matrix_normalized_c)\n",
    "plt.imshow(positive_matrix_normalized_c, cmap='Reds', origin='lower', extent=[0.5, n_cell+0.5, 0.5, n_cell+0.5])\n",
    "plt.yticks(np.arange(1, n_cell+1), np.arange(1, n_cell+1))\n",
    "plt.xticks(np.arange(1, n_cell+1), np.arange(1, n_cell+1))\n",
    "plt.colorbar()\n",
    "plt.title(\"epoch = 20\")"
   ]
  },
  {
   "cell_type": "markdown",
   "id": "0aed7f3d-32b8-4b44-8140-5b63de81f343",
   "metadata": {},
   "source": [
    "# 7D"
   ]
  },
  {
   "cell_type": "code",
   "execution_count": null,
   "id": "6fe6ac2e-58e5-444c-823a-572c3a56a891",
   "metadata": {},
   "outputs": [],
   "source": [
    "# load data\n",
    "data = np.load('mca100.npz')\n",
    "array = data['num_matches']\n",
    "\n",
    "data2 = np.load('bct100.npz')\n",
    "array2 = data2['num_matches']\n",
    "\n",
    "data3 = np.load('lung100.npz')\n",
    "array3 = data3['num_matches']\n",
    "\n",
    "data4 = np.load('pbmc100.npz')\n",
    "array4 = data4['num_matches']\n",
    "\n",
    "data5 = np.load('sim_100.npz')\n",
    "array5 = data5['num_matches']\n",
    "\n",
    "data6 = np.load('human_pan_100.npz')\n",
    "array6 = data6['num_matches']"
   ]
  },
  {
   "cell_type": "code",
   "execution_count": null,
   "id": "616c489b-e76b-4cc4-ba08-66c7892fdc22",
   "metadata": {},
   "outputs": [],
   "source": [
    "x = np.arange(0, 100, 10)\n",
    "\n",
    "plt.rcParams['font.family'] = 'Arial'\n",
    "colors = [\"#E64B35CC\", \"#0072B5CC\", \"#00A087CC\", \"#3C5488CC\", \"#F39B7FCC\", \"#F7DC05FF\"]"
   ]
  },
  {
   "cell_type": "code",
   "execution_count": null,
   "id": "82bc7f72-3d50-4c3c-bdeb-74945b015234",
   "metadata": {},
   "outputs": [],
   "source": [
    "plt.plot(x, array, label='Mouse Cell Atlas', color=colors[0])\n",
    "plt.plot(x, array2, label='Human Mammary Epithelial Subset', color=colors[1])\n",
    "plt.plot(x, array3, label='Human Lung Cell', color=colors[2])\n",
    "plt.plot(x, array4, label='Human PBMC', color=colors[3])\n",
    "plt.plot(x, array5, label='Simulation', color=colors[4])\n",
    "plt.plot(x, array6, label='Human Pancreas', color=colors[5])\n",
    "plt.gca().spines['top'].set_visible(False)\n",
    "plt.gca().spines['right'].set_visible(False)"
   ]
  }
 ],
 "metadata": {
  "kernelspec": {
   "display_name": "Python PyTorch",
   "language": "python",
   "name": "pytorch"
  },
  "language_info": {
   "codemirror_mode": {
    "name": "ipython",
    "version": 3
   },
   "file_extension": ".py",
   "mimetype": "text/x-python",
   "name": "python",
   "nbconvert_exporter": "python",
   "pygments_lexer": "ipython3",
   "version": "3.9.16"
  }
 },
 "nbformat": 4,
 "nbformat_minor": 5
}
