{
 "cells": [
  {
   "cell_type": "markdown",
   "id": "48809f51-91ed-4ca0-a873-6785b7451eaa",
   "metadata": {},
   "source": [
    "# S2A"
   ]
  },
  {
   "cell_type": "code",
   "execution_count": null,
   "id": "298c8817-fa62-4e39-a5e0-e0a83a61b771",
   "metadata": {},
   "outputs": [],
   "source": [
    "import matplotlib.pyplot as plt\n",
    "import numpy as np"
   ]
  },
  {
   "cell_type": "code",
   "execution_count": null,
   "id": "47b5e6d2-a544-499e-a109-652bdc37b254",
   "metadata": {},
   "outputs": [],
   "source": [
    "methods = ['Seurat', 'Harmony', 'Scanorama', 'BBKNN', 'scVI', 'Cell BLAST', 'INSCT', 'scDML', 'CYCLONE']"
   ]
  },
  {
   "cell_type": "code",
   "execution_count": null,
   "id": "31b9201c-1367-4e2f-adbd-a89b27086fb0",
   "metadata": {},
   "outputs": [],
   "source": [
    "ARI = [0.198, 0.3855, 0.10745, 0.3075, 0.5697, 0.4472, 0.3708, 0.311, 0.5748]\n",
    "NMI = [0.4315, 0.6302, 0.30228, 0.6074, 0.69711, 0.6301, 0.5906, 0.5651, 0.6939]"
   ]
  },
  {
   "cell_type": "code",
   "execution_count": null,
   "id": "62bf0ad6-f420-4b05-8d0e-cc25a9305026",
   "metadata": {},
   "outputs": [],
   "source": [
    "bar_width = 0.35\n",
    "bar_positions = np.arange(len(methods))\n",
    "fig = plt.figure(figsize=(10, 6))\n",
    "plt.bar(bar_positions, ARI, color='#F59A7D', label='ARI', width=bar_width)\n",
    "plt.bar(bar_positions + bar_width, NMI, color='#96D3C4', label='NMI', width=bar_width)\n",
    "plt.xticks(bar_positions + bar_width / 2, methods, rotation=45, fontsize=14)\n",
    "plt.tight_layout()\n",
    "plt.gca().spines['top'].set_visible(False)\n",
    "plt.gca().spines['right'].set_visible(False)\n",
    "plt.legend()"
   ]
  },
  {
   "cell_type": "markdown",
   "id": "497b6eb1-05a3-4618-9659-9be969423f2a",
   "metadata": {},
   "source": [
    "# S2B"
   ]
  },
  {
   "cell_type": "code",
   "execution_count": null,
   "id": "a6100f9c-a6f8-4f69-9476-0714adeaf347",
   "metadata": {},
   "outputs": [],
   "source": [
    "methods = ['CYCLONE', 'Harmony', 'Scanorama', 'INSCT', 'scDML', 'BBKNN', 'scVI', 'Cell BLAST', 'Seurat']\n",
    "colors = [(246/255, 111/255, 105/255), (21/255, 151/255, 165/255), (255/255, 194/255, 75/255), (14/255, 96/255, 107/255),\n",
    "          (69/255, 42/255, 61/255), (68/255, 117/255, 122/255), (2/255, 48/255, 74/255), (131/255, 64/255, 38/255),\n",
    "          (78/255, 171/255, 144/255)]\n",
    "markers = ['o', 's', '^', '*', 'D', 'v', 'p', 'h', 'x']\n",
    "ber_values_lung = [23524.8025, 72945.0663, 45055.492, 41589.3982, 56593.1031, 37347.7742, 27915.0547, 40977.3795, 64659.0621]\n",
    "basw_values_lung = [0.9484, 0.8947, 0.8854, 0.8638, 0.9232, 0.9183, 0.8987, 0.965, 0.9232]\n",
    "plt.figure(figsize=(8, 6))\n",
    "for i in range(len(methods)):\n",
    "    plt.scatter(ber_values_lung[i], basw_values_lung[i], color=colors[i], s=50, label=methods[i],  marker=markers[i])\n",
    "    plt.gca().spines['top'].set_visible(False)\n",
    "plt.gca().spines['right'].set_visible(False)\n",
    "plt.grid(False)\n",
    "plt.legend(loc='upper right', bbox_to_anchor=(1.3, 0.8), fancybox=True, shadow=False, ncol=1)"
   ]
  },
  {
   "cell_type": "code",
   "execution_count": null,
   "id": "77594efe-dcd3-4db6-98a3-e186b568834f",
   "metadata": {},
   "outputs": [],
   "source": []
  }
 ],
 "metadata": {
  "kernelspec": {
   "display_name": "Python PyTorch",
   "language": "python",
   "name": "pytorch"
  },
  "language_info": {
   "codemirror_mode": {
    "name": "ipython",
    "version": 3
   },
   "file_extension": ".py",
   "mimetype": "text/x-python",
   "name": "python",
   "nbconvert_exporter": "python",
   "pygments_lexer": "ipython3",
   "version": "3.9.16"
  }
 },
 "nbformat": 4,
 "nbformat_minor": 5
}
