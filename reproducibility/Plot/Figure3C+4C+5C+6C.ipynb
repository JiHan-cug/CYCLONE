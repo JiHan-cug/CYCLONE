{
 "cells": [
  {
   "cell_type": "markdown",
   "id": "c1af2978-99e3-499e-95e3-5e63d56fe8de",
   "metadata": {},
   "source": [
    "# 3C+4C+5C+6C"
   ]
  },
  {
   "cell_type": "markdown",
   "id": "9c1376dd-6766-4b73-aac3-2c062ba363d9",
   "metadata": {},
   "source": [
    "## 3C"
   ]
  },
  {
   "cell_type": "code",
   "execution_count": null,
   "id": "b0dc0dc1-9a66-48ab-b351-51d3f96acff8",
   "metadata": {},
   "outputs": [],
   "source": [
    "import pandas as pd\n",
    "import scanpy as sc\n",
    "import numpy as np\n",
    "import matplotlib\n",
    "import matplotlib.pyplot as plt\n",
    "matplotlib.use('Agg')\n",
    "import warnings\n",
    "warnings.filterwarnings(\"ignore\")"
   ]
  },
  {
   "cell_type": "code",
   "execution_count": null,
   "id": "c49688b7-629d-4842-a94d-c9e9028d2e2c",
   "metadata": {},
   "outputs": [],
   "source": [
    "# set plot fouction\n",
    "def plot_cluster(df, method_name, by, n, ax):\n",
    "    umap = umap_all[n]\n",
    "    batch = df['Batch']\n",
    "    y_true = df['Labels']\n",
    "    \n",
    "    col1 = [\"#4197d8\", \"#f8c120\", \"#413496\", \"#495226\", \"#d60b6f\", \"#e66519\", \"#d581b7\", \"#83d3ad\",\n",
    "            \"#7c162c\", \"#26755d\", \"#EAC862\", \"#7FD2FF\", \"#007ED3\", \"#B2DF8A\"]\n",
    "\n",
    "    col2 = [\"#63b2ee\", \"#76da91\",\n",
    "            \"#f8cb7f\", \"#f89588\", \"#7cd6cf\", \"#9192ab\", \"#7898e1\", \"#efa666\", \"#eddd86\"]\n",
    "\n",
    "    adata = sc.AnnData(pd.DataFrame(np.random.rand(len(y_true), 1)))\n",
    "\n",
    "    adata.obs['true'] = y_true\n",
    "    adata.obs['true'] = adata.obs['true'].astype(str).astype('category')\n",
    "    adata.obs['batch'] = batch\n",
    "    adata.obs['batch'] = adata.obs['batch'].astype(str).astype('category')\n",
    "    adata.obsm['X_umap'] = umap\n",
    "\n",
    "    if by == 'true':\n",
    "        sc.pl.umap(adata, color=['true'], ax=ax, show=False, legend_loc='None', size=15, palette=col1)\n",
    "        ax.set_title(method_name, fontsize=15, family='Arial')\n",
    "        ax.spines['right'].set_visible(False)\n",
    "        ax.spines['top'].set_visible(False)\n",
    "        ax.set_xticks([])\n",
    "        ax.set_xlabel('')\n",
    "\n",
    "    else:\n",
    "        sc.pl.umap(adata, color=['batch'], ax=ax, show=False, legend_loc='None', size=15, palette=col2)\n",
    "        ax.set_title(method_name, fontsize=15, family='Arial')\n",
    "        ax.spines['right'].set_visible(False)\n",
    "        ax.spines['top'].set_visible(False)\n",
    "        ax.set_xticks([])\n",
    "        ax.set_xlabel('')"
   ]
  },
  {
   "cell_type": "code",
   "execution_count": null,
   "id": "9f06c2b1-0fd8-435f-bd0a-a15f27d4645e",
   "metadata": {},
   "outputs": [],
   "source": [
    "# load Human Pancreas emmbedding\n",
    "fig, axs = plt.subplots(1, 9, figsize=(25, 3))\n",
    "\n",
    "seurat = np.load('results/emb/human_pan_emb/seurat_human_pan.npz', allow_pickle=True)\n",
    "cellblast = np.load('results/emb/human_pan_emb/cellblast_human_pan30.npz', allow_pickle=True)\n",
    "harmony = np.load('results/emb/human_pan_emb/harmony_human_pan.npz', allow_pickle=True)\n",
    "scanorama = np.load('results/emb/human_pan_emb/scanorama.npz', allow_pickle=True)\n",
    "insct = np.load('results/emb/human_pan_emb/insct_human_pan30.npz', allow_pickle=True)\n",
    "bbknn = np.load('results/emb/human_pan_emb/bbknn_human_pan30.npz', allow_pickle=True)\n",
    "scdml = np.load('results/emb/human_pan_emb/scdml_human_pan30.npz', allow_pickle=True)\n",
    "scvi = np.load('results/emb/human_pan_emb/scvi_human_pan30.npz', allow_pickle=True)\n",
    "cyclone = np.load('results/emb/human_pan_emb/cyclone_human_pan30.npz', allow_pickle=True)"
   ]
  },
  {
   "cell_type": "code",
   "execution_count": null,
   "id": "91471811-01ba-4a36-9057-cf607e915c85",
   "metadata": {},
   "outputs": [],
   "source": [
    "methods = [seurat, harmony, scanorama, bbknn, scvi, cellblast, insct, scdml, cyclone]\n",
    "embedding = []\n",
    "for i, method in enumerate(methods):\n",
    "    embedding.append(method['Embedding'])\n",
    "\n",
    "umap_all = []\n",
    "for i in range(len(embedding)):\n",
    "    print(i)\n",
    "    adata = sc.AnnData(embedding[i])\n",
    "    sc.pp.neighbors(adata)\n",
    "    sc.tl.umap(adata, random_state=0)\n",
    "    umap_all.append(np.array(adata.obsm['X_umap']))"
   ]
  },
  {
   "cell_type": "code",
   "execution_count": null,
   "id": "e0fdc476-b54e-4ea6-91b8-51e72db9b18f",
   "metadata": {},
   "outputs": [],
   "source": [
    "# color with batch\n",
    "plot_cluster(seurat, 'Seurat', 'batch', 0, axs[0])\n",
    "plot_cluster(harmony, 'Harmony', 'batch', 1, axs[1])\n",
    "plot_cluster(scanorama, 'Scanorama', 'batch', 2, axs[2])\n",
    "plot_cluster(bbknn, 'BBKNN', 'batch', 3, axs[3])\n",
    "plot_cluster(scvi, 'scVI',  'batch', 4, axs[4])\n",
    "plot_cluster(cellblast, 'Cell BLAST', 'batch', 5, axs[5])\n",
    "plot_cluster(insct, 'INSCT',  'batch', 6, axs[6])\n",
    "plot_cluster(scdml, 'scDML',  'batch', 7, axs[7])\n",
    "plot_cluster(cyclone, 'CYCLONE', 'batch', 8, axs[8])"
   ]
  },
  {
   "cell_type": "code",
   "execution_count": null,
   "id": "33d53373-17e2-44d9-bb74-2e0dc5bb026a",
   "metadata": {},
   "outputs": [],
   "source": [
    "# color with true cell types\n",
    "plot_cluster(seurat, 'Seurat', 'true', 0, axs[0])\n",
    "plot_cluster(harmony, 'Harmony', 'true', 1, axs[1])\n",
    "plot_cluster(scanorama, 'Scanorama', 'true', 2, axs[2])\n",
    "plot_cluster(bbknn, 'BBKNN', 'true', 3, axs[3])\n",
    "plot_cluster(scvi, 'scVI',  'true', 4, axs[4])\n",
    "plot_cluster(cellblast, 'Cell BLAST', 'true', 5, axs[5])\n",
    "plot_cluster(insct, 'INSCT',  'true', 6, axs[6])\n",
    "plot_cluster(scdml, 'scDML',  'true', 7, axs[7])\n",
    "plot_cluster(cyclone, 'CYCLONE', 'true', 8, axs[8])"
   ]
  },
  {
   "cell_type": "markdown",
   "id": "82f440b0-27b3-4f1f-8409-7ec45fcf8a39",
   "metadata": {},
   "source": [
    "## 4C"
   ]
  },
  {
   "cell_type": "code",
   "execution_count": null,
   "id": "03d174a0-10c8-47bd-bb13-4f76e259f56a",
   "metadata": {},
   "outputs": [],
   "source": [
    "# load MCA emmbedding\n",
    "fig, axs = plt.subplots(1, 9, figsize=(25, 3))\n",
    "\n",
    "seurat = np.load('results/emb/mca_emb/seurat_MCA.npz', allow_pickle=True)\n",
    "cellblast = np.load('results/emb/mca_emb/cellblast_MCA.npz', allow_pickle=True)\n",
    "harmony = np.load('results/emb/mca_emb/harmony_mca.npz', allow_pickle=True)\n",
    "scanorama = np.load('results/emb/mca_emb/scanorama_mca.npz', allow_pickle=True)\n",
    "insct = np.load('results/emb/mca_emb/insct_MCA.npz', allow_pickle=True)\n",
    "bbknn = np.load('results/emb/mca_emb/bbknn_MCA.npz', allow_pickle=True)\n",
    "scdml = np.load('results/emb/mca_emb/scdml_mca.npz', allow_pickle=True)\n",
    "scvi = np.load('results/emb/mca_emb/scvi_mca.npz', allow_pickle=True)\n",
    "cyclone = np.load('results/emb/mca_emb/cyclone_mca.npz', allow_pickle=True)"
   ]
  },
  {
   "cell_type": "code",
   "execution_count": null,
   "id": "0c5287b8-d49b-4f22-ac22-a386591bb55b",
   "metadata": {},
   "outputs": [],
   "source": [
    "methods = [seurat, harmony, scanorama, bbknn, scvi, cellblast, insct, scdml, cyclone]\n",
    "embedding = []\n",
    "for i, method in enumerate(methods):\n",
    "    embedding.append(method['Embedding'])\n",
    "\n",
    "umap_all = []\n",
    "for i in range(len(embedding)):\n",
    "    print(i)\n",
    "    adata = sc.AnnData(embedding[i])\n",
    "    sc.pp.neighbors(adata)\n",
    "    sc.tl.umap(adata, random_state=0)\n",
    "    umap_all.append(np.array(adata.obsm['X_umap']))"
   ]
  },
  {
   "cell_type": "code",
   "execution_count": null,
   "id": "72099061-9c4c-463a-b44d-538c7f8a586e",
   "metadata": {},
   "outputs": [],
   "source": [
    "plot_cluster(seurat, 'Seurat', 'batch', 0, axs[0])\n",
    "plot_cluster(harmony, 'Harmony', 'batch', 1, axs[1])\n",
    "plot_cluster(scanorama, 'Scanorama', 'batch', 2, axs[2])\n",
    "plot_cluster(bbknn, 'BBKNN', 'batch', 3, axs[3])\n",
    "plot_cluster(scvi, 'scVI',  'batch', 4, axs[4])\n",
    "plot_cluster(cellblast, 'Cell BLAST', 'batch', 5, axs[5])\n",
    "plot_cluster(insct, 'INSCT',  'batch', 6, axs[6])\n",
    "plot_cluster(scdml, 'scDML',  'batch', 7, axs[7])\n",
    "plot_cluster(cyclone, 'CYCLONE', 'batch', 8, axs[8])"
   ]
  },
  {
   "cell_type": "code",
   "execution_count": null,
   "id": "096369a0-3e32-4c9d-8868-05711b024b09",
   "metadata": {},
   "outputs": [],
   "source": [
    "plot_cluster(seurat, 'Seurat', 'true', 0, axs[0])\n",
    "plot_cluster(harmony, 'Harmony', 'true', 1, axs[1])\n",
    "plot_cluster(scanorama, 'Scanorama', 'true', 2, axs[2])\n",
    "plot_cluster(bbknn, 'BBKNN', 'true', 3, axs[3])\n",
    "plot_cluster(scvi, 'scVI',  'true', 4, axs[4])\n",
    "plot_cluster(cellblast, 'Cell BLAST', 'true', 5, axs[5])\n",
    "plot_cluster(insct, 'INSCT',  'true', 6, axs[6])\n",
    "plot_cluster(scdml, 'scDML',  'true', 7, axs[7])\n",
    "plot_cluster(cyclone, 'CYCLONE', 'true', 8, axs[8])"
   ]
  },
  {
   "cell_type": "markdown",
   "id": "b7c0674c-6f41-4d30-b6a4-c85e534684da",
   "metadata": {},
   "source": [
    "## 5C"
   ]
  },
  {
   "cell_type": "code",
   "execution_count": null,
   "id": "dc280743-b846-4716-a126-949b6dec9f10",
   "metadata": {},
   "outputs": [],
   "source": [
    "# load Simulation emmbedding\n",
    "fig, axs = plt.subplots(1, 9, figsize=(25, 3))\n",
    "\n",
    "seurat = np.load('results/emb/sim2/seurat_sim.npz', allow_pickle=True)\n",
    "cellblast = np.load('results/emb/sim2/cellblast_sim.npz', allow_pickle=True)\n",
    "harmony = np.load('results/emb/sim2/harmony_sim.npz', allow_pickle=True)\n",
    "scanorama = np.load('results/emb/sim2/scanorama_sim.npz', allow_pickle=True)\n",
    "insct = np.load('results/emb/sim2/insct_sim.npz', allow_pickle=True)\n",
    "bbknn = np.load('results/emb/sim2/bbknn_sim.npz', allow_pickle=True)\n",
    "scdml = np.load('results/emb/sim2/scDML_sim.npz', allow_pickle=True)\n",
    "scvi = np.load('results/emb/sim2/scvi_sim.npz', allow_pickle=True)\n",
    "cyclone = np.load('results/emb/sim2/cyclone_sim.npz', allow_pickle=True)"
   ]
  },
  {
   "cell_type": "code",
   "execution_count": null,
   "id": "5d8eac2b-b0c1-4227-a31d-53d3565c2b1a",
   "metadata": {},
   "outputs": [],
   "source": [
    "methods = [seurat, harmony, scanorama, bbknn, scvi, cellblast, insct, scdml, cyclone]\n",
    "embedding = []\n",
    "for i, method in enumerate(methods):\n",
    "    embedding.append(method['Embedding'])\n",
    "\n",
    "umap_all = []\n",
    "for i in range(len(embedding)):\n",
    "    print(i)\n",
    "    adata = sc.AnnData(embedding[i])\n",
    "    sc.pp.neighbors(adata)\n",
    "    sc.tl.umap(adata, random_state=0)\n",
    "    umap_all.append(np.array(adata.obsm['X_umap']))"
   ]
  },
  {
   "cell_type": "code",
   "execution_count": null,
   "id": "1ce82eb1-ae74-42dc-b113-6b8a1a7c489c",
   "metadata": {},
   "outputs": [],
   "source": [
    "plot_cluster(seurat, 'Seurat', 'batch', 0, axs[0])\n",
    "plot_cluster(harmony, 'Harmony', 'batch', 1, axs[1])\n",
    "plot_cluster(scanorama, 'Scanorama', 'batch', 2, axs[2])\n",
    "plot_cluster(bbknn, 'BBKNN', 'batch', 3, axs[3])\n",
    "plot_cluster(scvi, 'scVI',  'batch', 4, axs[4])\n",
    "plot_cluster(cellblast, 'Cell BLAST', 'batch', 5, axs[5])\n",
    "plot_cluster(insct, 'INSCT',  'batch', 6, axs[6])\n",
    "plot_cluster(scdml, 'scDML',  'batch', 7, axs[7])\n",
    "plot_cluster(cyclone, 'CYCLONE', 'batch', 8, axs[8])"
   ]
  },
  {
   "cell_type": "code",
   "execution_count": null,
   "id": "6f93b6d7-4780-4851-832c-9a3fd49c2c6d",
   "metadata": {},
   "outputs": [],
   "source": [
    "plot_cluster(seurat, 'Seurat', 'true', 0, axs[0])\n",
    "plot_cluster(harmony, 'Harmony', 'true', 1, axs[1])\n",
    "plot_cluster(scanorama, 'Scanorama', 'true', 2, axs[2])\n",
    "plot_cluster(bbknn, 'BBKNN', 'true', 3, axs[3])\n",
    "plot_cluster(scvi, 'scVI',  'true', 4, axs[4])\n",
    "plot_cluster(cellblast, 'Cell BLAST', 'true', 5, axs[5])\n",
    "plot_cluster(insct, 'INSCT',  'true', 6, axs[6])\n",
    "plot_cluster(scdml, 'scDML',  'true', 7, axs[7])\n",
    "plot_cluster(cyclone, 'CYCLONE', 'true', 8, axs[8])"
   ]
  },
  {
   "cell_type": "markdown",
   "id": "ef46d480-cdd4-434f-a513-36f548e1eafe",
   "metadata": {},
   "source": [
    "## 6C"
   ]
  },
  {
   "cell_type": "code",
   "execution_count": null,
   "id": "2ae957f3-974a-4d2c-96d8-8b5a82d66e91",
   "metadata": {},
   "outputs": [],
   "source": [
    "# load Bct-s emmbedding\n",
    "fig, axs = plt.subplots(1, 9, figsize=(25, 3))\n",
    "\n",
    "seurat = np.load('results/emb/bct_emb/seurat_Bct_s.npz', allow_pickle=True)\n",
    "cellblast = np.load('results/emb/bct_emb/cellblast_Bct_s.npz', allow_pickle=True)\n",
    "harmony = np.load('results/emb/bct_emb/harmony_Bct_s.npz', allow_pickle=True)\n",
    "scanorama = np.load('results/emb/bct_emb/scanorama_Bct_s.npz', allow_pickle=True)\n",
    "insct = np.load('results/emb/bct_emb/insct_Bct_s.npz', allow_pickle=True)\n",
    "bbknn = np.load('results/emb/bct_emb/bbknn_Bct_s.npz', allow_pickle=True)\n",
    "scdml = np.load('results/emb/bct_emb/scDML_Bct_s.npz', allow_pickle=True)\n",
    "scvi = np.load('results/emb/bct_emb/scvi_Bct_s.npz', allow_pickle=True)\n",
    "cyclone = np.load('results/emb/bct_emb/cyclone_Bct_s.npz', allow_pickle=True)"
   ]
  },
  {
   "cell_type": "code",
   "execution_count": null,
   "id": "4e3054ad-96fb-422e-8ee3-8e62529f84e1",
   "metadata": {},
   "outputs": [],
   "source": [
    "methods = [seurat, harmony, scanorama, bbknn, scvi, cellblast, insct, scdml, cyclone]\n",
    "embedding = []\n",
    "for i, method in enumerate(methods):\n",
    "    embedding.append(method['Embedding'])\n",
    "\n",
    "umap_all = []\n",
    "for i in range(len(embedding)):\n",
    "    print(i)\n",
    "    adata = sc.AnnData(embedding[i])\n",
    "    sc.pp.neighbors(adata)\n",
    "    sc.tl.umap(adata, random_state=0)\n",
    "    umap_all.append(np.array(adata.obsm['X_umap']))"
   ]
  },
  {
   "cell_type": "code",
   "execution_count": null,
   "id": "b77436f1-69d3-4191-8899-b5ef75d5f606",
   "metadata": {},
   "outputs": [],
   "source": [
    "plot_cluster(seurat, 'Seurat', 'batch', 0, axs[0])\n",
    "plot_cluster(harmony, 'Harmony', 'batch', 1, axs[1])\n",
    "plot_cluster(scanorama, 'Scanorama', 'batch', 2, axs[2])\n",
    "plot_cluster(bbknn, 'BBKNN', 'batch', 3, axs[3])\n",
    "plot_cluster(scvi, 'scVI',  'batch', 4, axs[4])\n",
    "plot_cluster(cellblast, 'Cell BLAST', 'batch', 5, axs[5])\n",
    "plot_cluster(insct, 'INSCT',  'batch', 6, axs[6])\n",
    "plot_cluster(scdml, 'scDML',  'batch', 7, axs[7])\n",
    "plot_cluster(cyclone, 'CYCLONE', 'batch', 8, axs[8])"
   ]
  },
  {
   "cell_type": "code",
   "execution_count": null,
   "id": "030c8a7b-cc72-4c04-ade7-af609459c351",
   "metadata": {},
   "outputs": [],
   "source": [
    "plot_cluster(seurat, 'Seurat', 'true', 0, axs[0])\n",
    "plot_cluster(harmony, 'Harmony', 'true', 1, axs[1])\n",
    "plot_cluster(scanorama, 'Scanorama', 'true', 2, axs[2])\n",
    "plot_cluster(bbknn, 'BBKNN', 'true', 3, axs[3])\n",
    "plot_cluster(scvi, 'scVI',  'true', 4, axs[4])\n",
    "plot_cluster(cellblast, 'Cell BLAST', 'true', 5, axs[5])\n",
    "plot_cluster(insct, 'INSCT',  'true', 6, axs[6])\n",
    "plot_cluster(scdml, 'scDML',  'true', 7, axs[7])\n",
    "plot_cluster(cyclone, 'CYCLONE', 'true', 8, axs[8])"
   ]
  }
 ],
 "metadata": {
  "kernelspec": {
   "display_name": "Python PyTorch",
   "language": "python",
   "name": "pytorch"
  },
  "language_info": {
   "codemirror_mode": {
    "name": "ipython",
    "version": 3
   },
   "file_extension": ".py",
   "mimetype": "text/x-python",
   "name": "python",
   "nbconvert_exporter": "python",
   "pygments_lexer": "ipython3",
   "version": "3.9.16"
  }
 },
 "nbformat": 4,
 "nbformat_minor": 5
}