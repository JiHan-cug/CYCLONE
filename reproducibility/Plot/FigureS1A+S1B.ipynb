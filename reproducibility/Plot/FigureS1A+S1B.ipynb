{
 "cells": [
  {
   "cell_type": "markdown",
   "id": "090ece52-feef-46e7-8f61-fca93b523ed1",
   "metadata": {},
   "source": [
    "# S1A"
   ]
  },
  {
   "cell_type": "code",
   "execution_count": null,
   "id": "7ceb25d7-6e24-4540-bfef-7de1d5368b45",
   "metadata": {},
   "outputs": [],
   "source": [
    "import matplotlib.pyplot as plt\n",
    "import numpy as np"
   ]
  },
  {
   "cell_type": "code",
   "execution_count": null,
   "id": "167ab95a-c737-4e46-8fbc-6692259a1f30",
   "metadata": {},
   "outputs": [],
   "source": [
    "methods = ['Seurat', 'Harmony', 'Scanorama', 'BBKNN', 'scVI', 'Cell BLAST', 'INSCT', 'scDML', 'CYCLONE']"
   ]
  },
  {
   "cell_type": "code",
   "execution_count": null,
   "id": "07aeb0d1-86a4-4b61-afc1-4c91fb4d599e",
   "metadata": {},
   "outputs": [],
   "source": [
    "ARI = [0.43, 0.45, 0.53778, 0.37, 0.79515, 0.7296, 0.52, 0.66, 0.81459]\n",
    "NMI = [0.6762, 0.60, 0.64, 0.55, 0.82, 0.81, 0.70, 0.8251, 0.81777]"
   ]
  },
  {
   "cell_type": "code",
   "execution_count": null,
   "id": "49f7d51d-f8c1-4b61-9475-917918acdc12",
   "metadata": {},
   "outputs": [],
   "source": [
    "bar_width = 0.35\n",
    "bar_positions = np.arange(len(methods))\n",
    "fig = plt.figure(figsize=(10, 6))\n",
    "plt.bar(bar_positions, ARI, color='#F59A7D', label='ARI', width=bar_width)\n",
    "plt.bar(bar_positions + bar_width, NMI, color='#96D3C4', label='NMI', width=bar_width)\n",
    "plt.xticks(bar_positions + bar_width / 2, methods, rotation=45, fontsize=14)\n",
    "plt.tight_layout()\n",
    "plt.gca().spines['top'].set_visible(False)\n",
    "plt.gca().spines['right'].set_visible(False)\n",
    "plt.legend()"
   ]
  },
  {
   "cell_type": "markdown",
   "id": "be071e32-1800-49f9-b3c1-9bf53b2b9e80",
   "metadata": {},
   "source": [
    "# S1B"
   ]
  },
  {
   "cell_type": "code",
   "execution_count": null,
   "id": "7178e741-4853-48d0-96b4-b184df2352ce",
   "metadata": {},
   "outputs": [],
   "source": [
    "methods = ['CYCLONE', 'Harmony', 'Scanorama', 'INSCT', 'scDML', 'BBKNN', 'scVI', 'Cell BLAST', 'Seurat']\n",
    "colors = [(246/255, 111/255, 105/255), (21/255, 151/255, 165/255), (255/255, 194/255, 75/255), (14/255, 96/255, 107/255),\n",
    "          (69/255, 42/255, 61/255), (68/255, 117/255, 122/255), (2/255, 48/255, 74/255), (131/255, 64/255, 38/255),\n",
    "          (78/255, 171/255, 144/255)]\n",
    "markers = ['o', 's', '^', '*', 'D', 'v', 'p', 'h', 'x']\n",
    "ber_values_pbmc = [2396.26, 15667.6653, 3611.5664, 13419.5807, 4470.0104, 12326.2722, 4359.6778, 1140.0119, 31417.7147]\n",
    "basw_values_pbmc = [0.9965, 0.9876, 0.9031, 0.9696, 0.9881, 0.9957, 0.9918, 0.7846, 0.9862]\n",
    "plt.figure(figsize=(8, 6))\n",
    "for i in range(len(methods)):\n",
    "    plt.scatter(ber_values_pbmc[i], basw_values_pbmc[i], color=colors[i], s=50, label=methods[i],  marker=markers[i])\n",
    "    plt.gca().spines['top'].set_visible(False)\n",
    "plt.gca().spines['right'].set_visible(False)\n",
    "plt.grid(False)\n",
    "plt.legend(loc='upper right', bbox_to_anchor=(1.3, 0.8), fancybox=True, shadow=False, ncol=1)"
   ]
  },
  {
   "cell_type": "code",
   "execution_count": null,
   "id": "65d03046-2bfe-4550-8243-de33675be11d",
   "metadata": {},
   "outputs": [],
   "source": []
  }
 ],
 "metadata": {
  "kernelspec": {
   "display_name": "Python PyTorch",
   "language": "python",
   "name": "pytorch"
  },
  "language_info": {
   "codemirror_mode": {
    "name": "ipython",
    "version": 3
   },
   "file_extension": ".py",
   "mimetype": "text/x-python",
   "name": "python",
   "nbconvert_exporter": "python",
   "pygments_lexer": "ipython3",
   "version": "3.9.16"
  }
 },
 "nbformat": 4,
 "nbformat_minor": 5
}
