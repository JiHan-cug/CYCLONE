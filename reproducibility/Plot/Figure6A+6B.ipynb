{
 "cells": [
  {
   "cell_type": "markdown",
   "id": "e99f324a-8fb1-4a3b-a917-76827c5daf0f",
   "metadata": {},
   "source": [
    "# 6A"
   ]
  },
  {
   "cell_type": "code",
   "execution_count": null,
   "id": "de688c76-a41b-40c0-b751-106317c5e4f2",
   "metadata": {},
   "outputs": [],
   "source": [
    "import matplotlib.pyplot as plt\n",
    "import numpy as np"
   ]
  },
  {
   "cell_type": "code",
   "execution_count": null,
   "id": "ade443b8-7a5b-452b-bc90-ce441715df61",
   "metadata": {},
   "outputs": [],
   "source": [
    "methods = ['Seurat', 'Harmony', 'Scanorama', 'BBKNN', 'scVI', 'Cell BLAST', 'INSCT', 'scDML', 'CYCLONE']"
   ]
  },
  {
   "cell_type": "code",
   "execution_count": null,
   "id": "88cfac7f-f330-43f9-9ba9-02c208dc57d5",
   "metadata": {},
   "outputs": [],
   "source": [
    "ARI = [0.3028, 0.6679, 0.1909, 0.3075, 0.97, 0.9843, 0.97, 0.953, 0.97]\n",
    "NMI = [0.5428, 0.7368, 0.152, 0.3892, 0.939, 0.968, 0.9512, 0.9257, 0.9382]"
   ]
  },
  {
   "cell_type": "code",
   "execution_count": null,
   "id": "f2ed8e59-940b-4b59-aa93-1c1e8c513fe8",
   "metadata": {},
   "outputs": [],
   "source": [
    "bar_width = 0.35\n",
    "bar_positions = np.arange(len(methods))\n",
    "fig = plt.figure(figsize=(10, 6))\n",
    "plt.bar(bar_positions, ARI, color='#F59A7D', label='ARI', width=bar_width)\n",
    "plt.bar(bar_positions + bar_width, NMI, color='#96D3C4', label='NMI', width=bar_width)\n",
    "plt.xticks(bar_positions + bar_width / 2, methods, rotation=45, fontsize=14)\n",
    "plt.tight_layout()\n",
    "plt.gca().spines['top'].set_visible(False)\n",
    "plt.gca().spines['right'].set_visible(False)\n",
    "plt.legend()"
   ]
  },
  {
   "cell_type": "markdown",
   "id": "7b94feb0-271c-47bf-a5ba-010a71122511",
   "metadata": {},
   "source": [
    "# 6B"
   ]
  },
  {
   "cell_type": "code",
   "execution_count": null,
   "id": "0c9c4421-0dee-4c02-acae-e5e7db0e7953",
   "metadata": {},
   "outputs": [],
   "source": [
    "methods = ['CYCLONE', 'Harmony', 'Scanorama', 'INSCT', 'scDML', 'BBKNN', 'scVI', 'Cell BLAST', 'Seurat']\n",
    "colors = [(246/255, 111/255, 105/255), (21/255, 151/255, 165/255), (255/255, 194/255, 75/255), (14/255, 96/255, 107/255),\n",
    "          (69/255, 42/255, 61/255), (68/255, 117/255, 122/255), (2/255, 48/255, 74/255), (131/255, 64/255, 38/255),\n",
    "          (78/255, 171/255, 144/255)]\n",
    "markers = ['o', 's', '^', '*', 'D', 'v', 'p', 'h', 'x']\n",
    "ber_values_Bct_s = [95, 7680.2881, 3799.5445, 12.3579, 47.4163, 57.1762, 0, 4.3194, 26396.0213]\n",
    "basw_values_Bct_s = [0.9974, 0.99, 0.92, 0.8967, 0.99, 0.9605, 0.9993, 0.9362, 0.988]\n",
    "plt.figure(figsize=(8, 6))\n",
    "for i in range(len(methods)):\n",
    "    plt.scatter(ber_values_Bct_s[i], basw_values_Bct_s[i], color=colors[i], s=50, label=methods[i],  marker=markers[i])\n",
    "    plt.gca().spines['top'].set_visible(False)\n",
    "plt.gca().spines['right'].set_visible(False)\n",
    "plt.grid(False)\n",
    "plt.legend(loc='upper right', bbox_to_anchor=(1.3, 0.8), fancybox=True, shadow=False, ncol=1)"
   ]
  }
 ],
 "metadata": {
  "kernelspec": {
   "display_name": "Python PyTorch",
   "language": "python",
   "name": "pytorch"
  },
  "language_info": {
   "codemirror_mode": {
    "name": "ipython",
    "version": 3
   },
   "file_extension": ".py",
   "mimetype": "text/x-python",
   "name": "python",
   "nbconvert_exporter": "python",
   "pygments_lexer": "ipython3",
   "version": "3.9.16"
  }
 },
 "nbformat": 4,
 "nbformat_minor": 5
}