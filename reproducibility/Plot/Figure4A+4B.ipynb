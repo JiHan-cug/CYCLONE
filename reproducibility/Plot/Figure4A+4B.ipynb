{
 "cells": [
  {
   "cell_type": "markdown",
   "id": "674fe1d4-7c9e-4307-b2b9-b8c94f7b7b4c",
   "metadata": {},
   "source": [
    "# 4A"
   ]
  },
  {
   "cell_type": "code",
   "execution_count": null,
   "id": "5dd6af41-8506-4e7a-91be-3b9d417b1346",
   "metadata": {},
   "outputs": [],
   "source": [
    "import matplotlib.pyplot as plt\n",
    "import numpy as np"
   ]
  },
  {
   "cell_type": "code",
   "execution_count": null,
   "id": "885de0bf-a2e8-4d48-a3f4-bfa1662b2f13",
   "metadata": {},
   "outputs": [],
   "source": [
    "methods = ['Seurat', 'Harmony', 'Scanorama', 'BBKNN', 'scVI', 'Cell BLAST', 'INSCT', 'scDML', 'CYCLONE']"
   ]
  },
  {
   "cell_type": "code",
   "execution_count": null,
   "id": "56b76342-4237-4715-81cb-ae7105a7a98c",
   "metadata": {},
   "outputs": [],
   "source": [
    "ARI = [0.4245, 0.3903, 0.51421, 0.4047, 0.69835, 0.7076, 0.4622, 0.75, 0.7839]\n",
    "NMI = [0.69258, 0.554, 0.65329, 0.5897, 0.78006, 0.7721, 0.6009, 0.80, 0.80]"
   ]
  },
  {
   "cell_type": "code",
   "execution_count": null,
   "id": "7fc10ae7-2257-4058-a3b1-a72b2eecd473",
   "metadata": {},
   "outputs": [],
   "source": [
    "bar_width = 0.35\n",
    "bar_positions = np.arange(len(methods))\n",
    "fig = plt.figure(figsize=(10, 6))\n",
    "plt.bar(bar_positions, ARI, color='#F59A7D', label='ARI', width=bar_width)\n",
    "plt.bar(bar_positions + bar_width, NMI, color='#96D3C4', label='NMI', width=bar_width)\n",
    "plt.xticks(bar_positions + bar_width / 2, methods, rotation=45, fontsize=14)\n",
    "plt.tight_layout()\n",
    "plt.gca().spines['top'].set_visible(False)\n",
    "plt.gca().spines['right'].set_visible(False)\n",
    "plt.legend()"
   ]
  },
  {
   "cell_type": "markdown",
   "id": "94bb3986-65fa-4d88-a999-ac26825ef015",
   "metadata": {},
   "source": [
    "# 4B"
   ]
  },
  {
   "cell_type": "code",
   "execution_count": null,
   "id": "84e65c69-c36b-4d0b-ad1e-375352541743",
   "metadata": {},
   "outputs": [],
   "source": [
    "methods = ['CYCLONE', 'Harmony', 'Scanorama', 'INSCT', 'scDML', 'BBKNN', 'scVI', 'Cell BLAST', 'Seurat']\n",
    "colors = [(246/255, 111/255, 105/255), (21/255, 151/255, 165/255), (255/255, 194/255, 75/255), (14/255, 96/255, 107/255),\n",
    "          (69/255, 42/255, 61/255), (68/255, 117/255, 122/255), (2/255, 48/255, 74/255), (131/255, 64/255, 38/255),\n",
    "          (78/255, 171/255, 144/255)]\n",
    "markers = ['o', 's', '^', '*', 'D', 'v', 'p', 'h', 'x']\n",
    "ber_values_mca = [1050.4152, 4957.0955, 1676.1658, 2936.0551, 1146.7483, 4593.12, 981.828, 1226.6624, 12950.7017]\n",
    "basw_values_mca = [0.9767, 0.8059, 0.9736, 0.9865, 0.9737, 0.99, 0.9041, 0.5476, 0.98]\n",
    "plt.figure(figsize=(8, 6))\n",
    "for i in range(len(methods)):\n",
    "    plt.scatter(ber_values_mca[i], basw_values_mca[i], color=colors[i], s=50, label=methods[i],  marker=markers[i])\n",
    "    plt.gca().spines['top'].set_visible(False)\n",
    "plt.gca().spines['right'].set_visible(False)\n",
    "plt.grid(False)\n",
    "plt.legend(loc='upper right', bbox_to_anchor=(1.3, 0.8), fancybox=True, shadow=False, ncol=1)"
   ]
  }
 ],
 "metadata": {
  "kernelspec": {
   "display_name": "Python PyTorch",
   "language": "python",
   "name": "pytorch"
  },
  "language_info": {
   "codemirror_mode": {
    "name": "ipython",
    "version": 3
   },
   "file_extension": ".py",
   "mimetype": "text/x-python",
   "name": "python",
   "nbconvert_exporter": "python",
   "pygments_lexer": "ipython3",
   "version": "3.9.16"
  }
 },
 "nbformat": 4,
 "nbformat_minor": 5
}
