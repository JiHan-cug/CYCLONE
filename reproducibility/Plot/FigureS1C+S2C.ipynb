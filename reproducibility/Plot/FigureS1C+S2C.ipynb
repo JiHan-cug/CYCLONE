{
 "cells": [
  {
   "cell_type": "markdown",
   "id": "26e38c2a-d4e6-42af-a05c-5d29b2a4a6ca",
   "metadata": {},
   "source": [
    "# S1C+S2C"
   ]
  },
  {
   "cell_type": "markdown",
   "id": "cd705402-bf3b-4a11-9826-6b3707cd642b",
   "metadata": {},
   "source": [
    "## S1C"
   ]
  },
  {
   "cell_type": "code",
   "execution_count": null,
   "id": "23e33282-a609-4344-bcf7-e313ec106fbd",
   "metadata": {},
   "outputs": [],
   "source": [
    "import pandas as pd\n",
    "import scanpy as sc\n",
    "import numpy as np\n",
    "import matplotlib\n",
    "import matplotlib.pyplot as plt\n",
    "matplotlib.use('Agg')\n",
    "import warnings\n",
    "warnings.filterwarnings(\"ignore\")"
   ]
  },
  {
   "cell_type": "code",
   "execution_count": null,
   "id": "70860ea8-8085-4994-97f8-0d16c2f2915c",
   "metadata": {},
   "outputs": [],
   "source": [
    "# set plot fouction\n",
    "def plot_cluster(df, method_name, by, n, ax):\n",
    "    if method_name == 'Harmony':\n",
    "        umap = umap_all[n]\n",
    "        y_pred = df['Clusters']\n",
    "\n",
    "    else:\n",
    "        umap = umap_all[n]\n",
    "\n",
    "    batch = df['Batch']\n",
    "    y_true = df['Labels']\n",
    "    \n",
    "    col1 = [\"#4197d8\", \"#f8c120\", \"#413496\", \"#495226\", \"#d60b6f\", \"#e66519\", \"#d581b7\", \"#83d3ad\",\n",
    "            \"#7c162c\", \"#26755d\", \"#EAC862\", \"#7FD2FF\", \"#007ED3\", \"#B2DF8A\"]\n",
    "\n",
    "    col2 = [\"#63b2ee\", \"#76da91\",\n",
    "            \"#f8cb7f\", \"#f89588\", \"#7cd6cf\", \"#9192ab\", \"#7898e1\", \"#efa666\", \"#eddd86\"]\n",
    "\n",
    "    adata = sc.AnnData(pd.DataFrame(np.random.rand(len(y_true), 1)))\n",
    "\n",
    "    adata.obs['true'] = y_true\n",
    "    adata.obs['true'] = adata.obs['true'].astype(str).astype('category')\n",
    "    adata.obs['batch'] = batch\n",
    "    adata.obs['batch'] = adata.obs['batch'].astype(str).astype('category')\n",
    "    adata.obsm['X_umap'] = umap\n",
    "\n",
    "    if by == 'true':\n",
    "        sc.pl.umap(adata, color=['true'], ax=ax, show=False, legend_loc='None', size=15, palette=col1)\n",
    "        ax.set_title(method_name, fontsize=15, family='Arial')\n",
    "        ax.spines['right'].set_visible(False)\n",
    "        ax.spines['top'].set_visible(False)\n",
    "        ax.set_xticks([])\n",
    "        ax.set_xlabel('')\n",
    "\n",
    "    else:\n",
    "        sc.pl.umap(adata, color=['batch'], ax=ax, show=False, legend_loc='None', size=15, palette=col2)\n",
    "        ax.set_title(method_name, fontsize=15, family='Arial')\n",
    "        ax.spines['right'].set_visible(False)\n",
    "        ax.spines['top'].set_visible(False)\n",
    "        ax.set_xticks([])\n",
    "        ax.set_xlabel('')"
   ]
  },
  {
   "cell_type": "code",
   "execution_count": null,
   "id": "2b196be2-0537-4a69-9b24-07a8633b2a37",
   "metadata": {},
   "outputs": [],
   "source": [
    "# load Human PBMC emmbedding\n",
    "fig, axs = plt.subplots(1, 9, figsize=(25, 3))\n",
    "\n",
    "seurat = np.load('results/emb/pbmc_emb/seurat_pbmc.npz', allow_pickle=True)\n",
    "cellblast = np.load('results/emb/pbmc_emb/cellblast_pbmc.npz', allow_pickle=True)\n",
    "harmony = np.load('results/emb/pbmc_emb/harmony_pbmc.npz', allow_pickle=True)\n",
    "scanorama = np.load('results/emb/pbmc_emb/scanorama_pbmc.npz', allow_pickle=True)\n",
    "insct = np.load('results/emb/pbmc_emb/insct_pbmc.npz', allow_pickle=True)\n",
    "bbknn = np.load('results/emb/pbmc_emb/bbknn_pbmc.npz', allow_pickle=True)\n",
    "scdml = np.load('results/emb/pbmc_emb/scDML_pbmc.npz', allow_pickle=True)\n",
    "scvi = np.load('results/emb/pbmc_emb/scvi_pbmc.npz', allow_pickle=True)\n",
    "cyclone = np.load('results/emb/pbmc_emb/cyclone_pbmc.npz', allow_pickle=True)"
   ]
  },
  {
   "cell_type": "code",
   "execution_count": null,
   "id": "596d12d6-fd7c-4cc3-ba3f-7303224adce3",
   "metadata": {},
   "outputs": [],
   "source": [
    "methods = [seurat, harmony, scanorama, bbknn, scvi, cellblast, insct, scdml, cyclone]\n",
    "embedding = []\n",
    "for i, method in enumerate(methods):\n",
    "    embedding.append(method['Embedding'])\n",
    "\n",
    "umap_all = []\n",
    "for i in range(len(embedding)):\n",
    "    print(i)\n",
    "    adata = sc.AnnData(embedding[i])\n",
    "    sc.pp.neighbors(adata)\n",
    "    sc.tl.umap(adata, random_state=0)\n",
    "    umap_all.append(np.array(adata.obsm['X_umap']))"
   ]
  },
  {
   "cell_type": "code",
   "execution_count": null,
   "id": "58d5f440-d993-4428-83a6-b84f4128458b",
   "metadata": {},
   "outputs": [],
   "source": [
    "# color with batch\n",
    "plot_cluster(seurat, 'Seurat', 'batch', 0, axs[0])\n",
    "plot_cluster(harmony, 'Harmony', 'batch', 1, axs[1])\n",
    "plot_cluster(scanorama, 'Scanorama', 'batch', 2, axs[2])\n",
    "plot_cluster(bbknn, 'BBKNN', 'batch', 3, axs[3])\n",
    "plot_cluster(scvi, 'scVI',  'batch', 4, axs[4])\n",
    "plot_cluster(cellblast, 'Cell BLAST', 'batch', 5, axs[5])\n",
    "plot_cluster(insct, 'INSCT',  'batch', 6, axs[6])\n",
    "plot_cluster(scdml, 'scDML',  'batch', 7, axs[7])\n",
    "plot_cluster(cyclone, 'CYCLONE', 'batch', 8, axs[8])"
   ]
  },
  {
   "cell_type": "code",
   "execution_count": null,
   "id": "c24da72b-bf29-4b25-b17a-ea1036fd2ffa",
   "metadata": {},
   "outputs": [],
   "source": [
    "# color with true cell types\n",
    "plot_cluster(seurat, 'Seurat', 'true', 0, axs[0])\n",
    "plot_cluster(harmony, 'Harmony', 'true', 1, axs[1])\n",
    "plot_cluster(scanorama, 'Scanorama', 'true', 2, axs[2])\n",
    "plot_cluster(bbknn, 'BBKNN', 'true', 3, axs[3])\n",
    "plot_cluster(scvi, 'scVI',  'true', 4, axs[4])\n",
    "plot_cluster(cellblast, 'Cell BLAST', 'true', 5, axs[5])\n",
    "plot_cluster(insct, 'INSCT',  'true', 6, axs[6])\n",
    "plot_cluster(scdml, 'scDML',  'true', 7, axs[7])\n",
    "plot_cluster(cyclone, 'CYCLONE', 'true', 8, axs[8])"
   ]
  },
  {
   "cell_type": "markdown",
   "id": "2ec27ded-654d-4637-ae40-fde088003610",
   "metadata": {},
   "source": [
    "## S2C"
   ]
  },
  {
   "cell_type": "code",
   "execution_count": null,
   "id": "23e1f3fa-1620-4b7f-9acc-36cb6c5447ce",
   "metadata": {},
   "outputs": [],
   "source": [
    "# load Human Lung Cell emmbedding\n",
    "fig, axs = plt.subplots(1, 9, figsize=(25, 3))\n",
    "\n",
    "seurat = np.load('results/emb/lung_emb/seurat_lung.npz', allow_pickle=True)\n",
    "cellblast = np.load('results/emb/lung_emb/cellblast_lung.npz', allow_pickle=True)\n",
    "harmony = np.load('results/emb/lung_emb/harmony_lung.npz', allow_pickle=True)\n",
    "scanorama = np.load('results/emb/lung_emb/scanorama_lung.npz', allow_pickle=True)\n",
    "insct = np.load('results/emb/lung_emb/insct_lung.npz', allow_pickle=True)\n",
    "bbknn = np.load('results/emb/lung_emb/bbknn_lung.npz', allow_pickle=True)\n",
    "scdml = np.load('results/emb/lung_emb/scDML_lung.npz', allow_pickle=True)\n",
    "scvi = np.load('results/emb/lung_emb/scvi_lung.npz', allow_pickle=True)\n",
    "cyclone = np.load('results/emb/lung_emb/cyclone_lung.npz', allow_pickle=True)"
   ]
  },
  {
   "cell_type": "code",
   "execution_count": null,
   "id": "f5b11d6a-00cd-4788-ac7b-8e4b345370dd",
   "metadata": {},
   "outputs": [],
   "source": [
    "methods = [seurat, harmony, scanorama, bbknn, scvi, cellblast, insct, scdml, cyclone]\n",
    "embedding = []\n",
    "for i, method in enumerate(methods):\n",
    "    embedding.append(method['Embedding'])\n",
    "\n",
    "umap_all = []\n",
    "for i in range(len(embedding)):\n",
    "    print(i)\n",
    "    adata = sc.AnnData(embedding[i])\n",
    "    sc.pp.neighbors(adata)\n",
    "    sc.tl.umap(adata, random_state=0)\n",
    "    umap_all.append(np.array(adata.obsm['X_umap']))"
   ]
  },
  {
   "cell_type": "code",
   "execution_count": null,
   "id": "af68af4e-7a43-4368-b4f0-ef02378bfbce",
   "metadata": {},
   "outputs": [],
   "source": [
    "plot_cluster(seurat, 'Seurat', 'batch', 0, axs[0])\n",
    "plot_cluster(harmony, 'Harmony', 'batch', 1, axs[1])\n",
    "plot_cluster(scanorama, 'Scanorama', 'batch', 2, axs[2])\n",
    "plot_cluster(bbknn, 'BBKNN', 'batch', 3, axs[3])\n",
    "plot_cluster(scvi, 'scVI',  'batch', 4, axs[4])\n",
    "plot_cluster(cellblast, 'Cell BLAST', 'batch', 5, axs[5])\n",
    "plot_cluster(insct, 'INSCT',  'batch', 6, axs[6])\n",
    "plot_cluster(scdml, 'scDML',  'batch', 7, axs[7])\n",
    "plot_cluster(cyclone, 'CYCLONE', 'batch', 8, axs[8])"
   ]
  },
  {
   "cell_type": "code",
   "execution_count": null,
   "id": "425b88f6-89f0-4743-a809-329ff2cfb7e9",
   "metadata": {},
   "outputs": [],
   "source": [
    "plot_cluster(seurat, 'Seurat', 'true', 0, axs[0])\n",
    "plot_cluster(harmony, 'Harmony', 'true', 1, axs[1])\n",
    "plot_cluster(scanorama, 'Scanorama', 'true', 2, axs[2])\n",
    "plot_cluster(bbknn, 'BBKNN', 'true', 3, axs[3])\n",
    "plot_cluster(scvi, 'scVI',  'true', 4, axs[4])\n",
    "plot_cluster(cellblast, 'Cell BLAST', 'true', 5, axs[5])\n",
    "plot_cluster(insct, 'INSCT',  'true', 6, axs[6])\n",
    "plot_cluster(scdml, 'scDML',  'true', 7, axs[7])\n",
    "plot_cluster(cyclone, 'CYCLONE', 'true', 8, axs[8])"
   ]
  }
 ],
 "metadata": {
  "kernelspec": {
   "display_name": "Python PyTorch",
   "language": "python",
   "name": "pytorch"
  },
  "language_info": {
   "codemirror_mode": {
    "name": "ipython",
    "version": 3
   },
   "file_extension": ".py",
   "mimetype": "text/x-python",
   "name": "python",
   "nbconvert_exporter": "python",
   "pygments_lexer": "ipython3",
   "version": "3.9.16"
  }
 },
 "nbformat": 4,
 "nbformat_minor": 5
}